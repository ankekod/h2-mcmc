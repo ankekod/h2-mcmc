{
 "cells": [
  {
   "cell_type": "markdown",
   "metadata": {},
   "source": [
    "# Markov-Chain Monte Carlo For Calculating Hydrogen Gas Bond Length\n",
    "\n",
    "In this notebook, we will use a Markov-Chain Monte Carlo (MCMC) approach to calculate the bond length of a hydrogen gas molecule at three different temperatures (10, 100, and 1000 K). This stocastic approach will not only show us the bond length, but the distribution of possible bond lengths. This allows us to see how the bond length can vary (especially at higher temperatures), which not only gives us the mean bond length, but its variability as well."
   ]
  },
  {
   "cell_type": "markdown",
   "metadata": {},
   "source": [
    "## Background\n",
    "The hydrogen gas molecule system is *quantized*, which means that a bond length between the two hydrogen atoms corresponds to a discrete energy level. Which accessability of these energy states depend on the temperature of the system, i.e. higher energy states are accessible at higher temperatures. The accessability of these states follow a [Boltzmann probability distribution function](https://en.wikipedia.org/wiki/Boltzmann_distribution) (PDF).\n",
    "\n",
    "It is very difficult to calculate the exact Boltzmann PDF directly, as every possible state needs to be calculated to normalize it. However, it is easy to calculate the ratio of two probabilities - *the Boltzmann factor*. Here a value larger than one means that the subseqeuent energy state is more probable than the last (or initial) state. We will use this choose which samples to pick in our MCMC algorithm. "
   ]
  },
  {
   "cell_type": "code",
   "execution_count": 1,
   "metadata": {},
   "outputs": [
    {
     "data": {
      "text/plain": [
       "<matplotlib.legend.Legend at 0x1ba02589fd0>"
      ]
     },
     "execution_count": 1,
     "metadata": {},
     "output_type": "execute_result"
    },
    {
     "data": {
      "image/png": "[encoded data removed]",
      "text/plain": [
       "<Figure size 432x288 with 1 Axes>"
      ]
     },
     "metadata": {
      "needs_background": "light"
     },
     "output_type": "display_data"
    }
   ],
   "source": [
    "%matplotlib inline\n",
    "\n",
    "import numpy as np\n",
    "import matplotlib.pyplot as plt\n",
    "from ase import units\n",
    "\n",
    "def boltzmann_factor(energy_diff, temperature=298):\n",
    "    return np.exp(-energy_diff/(units.kB*temperature))\n",
    "\n",
    "fig, ax = plt.subplots()\n",
    "\n",
    "temperatures = [10, 100, 1000] # Kelvin\n",
    "energy_diff = np.logspace(-3,0) # energy difference between two states in eV\n",
    "\n",
    "for temp in temperatures:\n",
    "    ax.semilogx(energy_diff, boltzmann_factor(energy_diff, temperature=temp), label='T = %1.0f K' % temp)\n",
    "    \n",
    "ax.set(\n",
    "    xlabel='energy difference (eV)',\n",
    "    ylabel='Boltzmann factor'\n",
    ")\n",
    "plt.legend()"
   ]
  },
  {
   "cell_type": "markdown",
   "metadata": {},
   "source": [
    "## The Algorithm\n",
    "\n",
    "A naive way to calculate the bond length of a hydrogen molecule would be to sample all possible quantum states and try to recover the full Boltzmann distribution that way. However, like we mentioned this is very hard to calculate, so instead we will use the initial and current states, and use them to calculate the Boltzmann factor to sample from the distribution indirectly. \n",
    "\n",
    "In our algorithm we will:\n",
    "1. Choose an initial configuration of atoms and calculate its potential energy (our initial state).\n",
    "2. Propose a random-walk step for each atom. The atoms will be randomly moved in x, y, and z directions by picking a number between -1 and 1 for each coordinate. We will multiply this by a maximum step-size of 0.5 Å to avoid moving to far. This is Markov-Chain step.\n",
    "3. Now we calculate the energy of the proposed step and then the Boltzmann factor of the proposed and initial configurations. If the factor is greater than 1, we accept the proposed step it, else we draw a random number between 0 and 1 and accept the step if the factor is greater than this random number.\n",
    "4. Go back to 2 until a maximum of 2000 iterations have been completed. "
   ]
  },
  {
   "cell_type": "code",
   "execution_count": 2,
   "metadata": {},
   "outputs": [],
   "source": [
    "from ase.calculators.emt import EMT\n",
    "from ase.io import Trajectory\n",
    "\n",
    "class MCMC:\n",
    "    def __init__(self, atoms, calculator=EMT(), temperature=298.0, max_step=0.5, iterations=2000):\n",
    "        self.atoms = atoms # initial atom object\n",
    "        self.calc = calculator # assigns calculator\n",
    "        \n",
    "        # algoritm parameters\n",
    "        self.max_step = max_step # maximum step in Å\n",
    "        self.T = temperature # system temperature\n",
    "        self.iter = iterations # number of iterations or runs \n",
    "        \n",
    "        # sets the calculator to the atoms object\n",
    "        self.atoms.set_calculator(self.calc)\n",
    "        \n",
    "        # creates a trajectory object where we store accepted atom configurations\n",
    "        self.accepted_traj = Trajectory('accepted_%1.0f.traj' % self.T, 'w')\n",
    "        self.accepted_traj.write(atoms) # writes initial configuration\n",
    "        \n",
    "        \n",
    "        self.energies = [atoms.get_potential_energy()] # empty list for storing accepted potential energies\n",
    "        self.bond_lengths = [self.get_bond_length(atoms)] # same but for bond length\n",
    "\n",
    "        return \n",
    "    \n",
    "    def randomly_move(self, atoms):\n",
    "        for atom in atoms:\n",
    "            atom.x += self.max_step*np.random.uniform(low=-1,high=1)\n",
    "            atom.y += self.max_step*np.random.uniform(low=-1,high=1)\n",
    "            atom.z += self.max_step*np.random.uniform(low=-1,high=1)\n",
    "        return atoms\n",
    "    \n",
    "    def get_bond_length(self, atoms):\n",
    "        return atoms.get_distance(0,1)\n",
    "    \n",
    "    # returns the potential energy of the atoms object\n",
    "    def get_energy(self, atoms):\n",
    "        # gets the bond length in Å\n",
    "        bond_length = self.get_bond_length(atoms)\n",
    "        \n",
    "        # returns infinite energy if the bond is too small or large, else calculates the potential energy\n",
    "        if (bond_length < 0.35) or (bond_length > 6.0):\n",
    "            energy = np.inf\n",
    "        else:\n",
    "            energy = atoms.get_potential_energy()\n",
    "        return energy\n",
    "\n",
    "    # method that decides if we accept the proposed step\n",
    "    def accept_step(self, new_energy, old_energy):\n",
    "        # calculates the boltzmann factor\n",
    "        r = boltzmann_factor(new_energy-old_energy, temperature=self.T)\n",
    "        \n",
    "        # if the factor is greater than one we accept the step \n",
    "        # or if the factor is greater than a random number, we also accept the step\n",
    "        if r > 1 or r > np.random.uniform(low=0,high=1):\n",
    "            return True\n",
    "        else:\n",
    "            return False\n",
    "        \n",
    "    def run(self):\n",
    "        initial_energy = self.energies[0]\n",
    "        \n",
    "        for _ in range(self.iter):\n",
    "            proposed_atoms = self.atoms.copy() # copies the original atom object\n",
    "            proposed_atoms.set_calculator(self.calc) # need to reapply the calculator (not copied)\n",
    "            \n",
    "            proposed_atoms = self.randomly_move(proposed_atoms) # randomly moves each atom in atoms\n",
    "            \n",
    "            # finds the potential energy of the moved atoms and their bond length\n",
    "            proposed_energy = self.get_energy(proposed_atoms)\n",
    "            \n",
    "            previous_energy = self.energies[-1]\n",
    "            \n",
    "            if self.accept_step(proposed_energy, previous_energy):\n",
    "                self.energies.append(proposed_energy)\n",
    "                self.bond_lengths.append(self.get_bond_length(proposed_atoms))\n",
    "                self.accepted_traj.write(proposed_atoms)\n",
    "            else:\n",
    "                continue\n",
    "        return \n",
    "    \n",
    "    def get_energies(self):\n",
    "        return self.energy"
   ]
  },
  {
   "cell_type": "markdown",
   "metadata": {},
   "source": [
    "# Calculating Hydrogen Bond Length"
   ]
  },
  {
   "cell_type": "markdown",
   "metadata": {},
   "source": [
    "## Initial Configuration\n",
    "We will use the [Atomistic Simulation Environment (ASE)](https://wiki.fysik.dtu.dk/ase/) to construct our hydrogen gas molecule, as well as for performing all electronic structure calculations."
   ]
  },
  {
   "cell_type": "code",
   "execution_count": 3,
   "metadata": {},
   "outputs": [],
   "source": [
    "from ase import Atoms\n",
    "# creates a hydrogen gas molecule inside a cell (just a volume of space)\n",
    "atoms = Atoms(\n",
    "    'H2', # type of atoms (2 hydrogen)\n",
    "    positions = [\n",
    "        (0,0,0), # x, y, & z coordinates of atom 1\n",
    "        (0,0,1.2) # atom 2\n",
    "    ]\n",
    ")\n",
    "atoms.set_cell((15,15,15)) # makes the cell 15x15x15 Å \n",
    "atoms.center() # places the atoms in the center of the cell"
   ]
  },
  {
   "cell_type": "markdown",
   "metadata": {},
   "source": [
    "## Generating Data\n",
    "We'll now run the atoms object through our algorithm and record the bond lengths at three different temperatures - 10, 100, and 1000 K. "
   ]
  },
  {
   "cell_type": "code",
   "execution_count": 4,
   "metadata": {},
   "outputs": [
    {
     "data": {
      "image/png": "[encoded data removed]",
      "text/plain": [
       "<Figure size 864x216 with 3 Axes>"
      ]
     },
     "metadata": {
      "needs_background": "light"
     },
     "output_type": "display_data"
    }
   ],
   "source": [
    "import pandas as pd \n",
    "\n",
    "# data storage dictionary\n",
    "data={'temperature': [], 'bond_length': []}\n",
    "\n",
    "fig, axes = plt.subplots(1,3, figsize=(12,3))\n",
    "\n",
    "for temp, ax in zip(temperatures, axes):\n",
    "    h2 = MCMC(atoms,temperature=temp)\n",
    "    h2.run()\n",
    "    E = h2.energies\n",
    "    d = h2.bond_lengths\n",
    "    \n",
    "    data['bond_length'] += d\n",
    "    data['temperature'] += np.repeat(temp, len(d)).tolist()\n",
    "    ax.plot(d)\n",
    "    ax.set(\n",
    "        xlabel='accepted steps',\n",
    "        title='T = %1.0f K' % temp,\n",
    "    )\n",
    "\n",
    "axes[0].set(\n",
    "    ylabel='bond length (Å)',\n",
    ")\n",
    "\n",
    "# stores data in pandas dataframe\n",
    "df = pd.DataFrame(data=data)"
   ]
  },
  {
   "cell_type": "markdown",
   "metadata": {},
   "source": [
    "From these results we can draw some conclusions.\n",
    "1. More steps are accepted at higher temperature; more energy states are accessible. \n",
    "2. The bond length fluctuates more at higher temperatures. "
   ]
  },
  {
   "cell_type": "markdown",
   "metadata": {},
   "source": [
    "### Boxplot & Summary Statistics\n",
    "We can visualize the data as a boxplot, where we can clearly see how the average bond length and flucutations increase with temperature."
   ]
  },
  {
   "cell_type": "code",
   "execution_count": 5,
   "metadata": {},
   "outputs": [
    {
     "data": {
      "text/plain": [
       "[Text(0, 0.5, 'bond length (Å)'), Text(0.5, 0, 'temperature (K)')]"
      ]
     },
     "execution_count": 5,
     "metadata": {},
     "output_type": "execute_result"
    },
    {
     "data": {
      "image/png": "[encoded data removed]",
      "text/plain": [
       "<Figure size 432x288 with 1 Axes>"
      ]
     },
     "metadata": {
      "needs_background": "light"
     },
     "output_type": "display_data"
    }
   ],
   "source": [
    "import seaborn as sns \n",
    "\n",
    "fig, ax = plt.subplots()\n",
    "\n",
    "df = df.iloc[3:] # we remove the first few iterations\n",
    "sns.boxplot(data=df, x='temperature', y='bond_length', ax=ax)\n",
    "\n",
    "ax.set(\n",
    "    xlabel='temperature (K)',\n",
    "    ylabel='bond length (Å)',\n",
    ")"
   ]
  },
  {
   "cell_type": "code",
   "execution_count": 6,
   "metadata": {},
   "outputs": [
    {
     "data": {
      "text/html": [
       "<div>\n",
       "<style scoped>\n",
       "    .dataframe tbody tr th:only-of-type {\n",
       "        vertical-align: middle;\n",
       "    }\n",
       "\n",
       "    .dataframe tbody tr th {\n",
       "        vertical-align: top;\n",
       "    }\n",
       "\n",
       "    .dataframe thead tr th {\n",
       "        text-align: left;\n",
       "    }\n",
       "\n",
       "    .dataframe thead tr:last-of-type th {\n",
       "        text-align: right;\n",
       "    }\n",
       "</style>\n",
       "<table border=\"1\" class=\"dataframe\">\n",
       "  <thead>\n",
       "    <tr>\n",
       "      <th></th>\n",
       "      <th colspan=\"8\" halign=\"left\">bond_length</th>\n",
       "    </tr>\n",
       "    <tr>\n",
       "      <th></th>\n",
       "      <th>count</th>\n",
       "      <th>mean</th>\n",
       "      <th>std</th>\n",
       "      <th>min</th>\n",
       "      <th>25%</th>\n",
       "      <th>50%</th>\n",
       "      <th>75%</th>\n",
       "      <th>max</th>\n",
       "    </tr>\n",
       "    <tr>\n",
       "      <th>temperature</th>\n",
       "      <th></th>\n",
       "      <th></th>\n",
       "      <th></th>\n",
       "      <th></th>\n",
       "      <th></th>\n",
       "      <th></th>\n",
       "      <th></th>\n",
       "      <th></th>\n",
       "    </tr>\n",
       "  </thead>\n",
       "  <tbody>\n",
       "    <tr>\n",
       "      <th>10</th>\n",
       "      <td>13.0</td>\n",
       "      <td>0.777095</td>\n",
       "      <td>0.006486</td>\n",
       "      <td>0.761267</td>\n",
       "      <td>0.775462</td>\n",
       "      <td>0.776092</td>\n",
       "      <td>0.780163</td>\n",
       "      <td>0.786253</td>\n",
       "    </tr>\n",
       "    <tr>\n",
       "      <th>100</th>\n",
       "      <td>34.0</td>\n",
       "      <td>0.792132</td>\n",
       "      <td>0.073568</td>\n",
       "      <td>0.753906</td>\n",
       "      <td>0.766091</td>\n",
       "      <td>0.777981</td>\n",
       "      <td>0.792848</td>\n",
       "      <td>1.200000</td>\n",
       "    </tr>\n",
       "    <tr>\n",
       "      <th>1000</th>\n",
       "      <td>79.0</td>\n",
       "      <td>0.795370</td>\n",
       "      <td>0.062098</td>\n",
       "      <td>0.714709</td>\n",
       "      <td>0.770955</td>\n",
       "      <td>0.786737</td>\n",
       "      <td>0.804731</td>\n",
       "      <td>1.200000</td>\n",
       "    </tr>\n",
       "  </tbody>\n",
       "</table>\n",
       "</div>"
      ],
      "text/plain": [
       "            bond_length                                                    \\\n",
       "                  count      mean       std       min       25%       50%   \n",
       "temperature                                                                 \n",
       "10                 13.0  0.777095  0.006486  0.761267  0.775462  0.776092   \n",
       "100                34.0  0.792132  0.073568  0.753906  0.766091  0.777981   \n",
       "1000               79.0  0.795370  0.062098  0.714709  0.770955  0.786737   \n",
       "\n",
       "                                 \n",
       "                  75%       max  \n",
       "temperature                      \n",
       "10           0.780163  0.786253  \n",
       "100          0.792848  1.200000  \n",
       "1000         0.804731  1.200000  "
      ]
     },
     "execution_count": 6,
     "metadata": {},
     "output_type": "execute_result"
    }
   ],
   "source": [
    "df.groupby('temperature').describe()"
   ]
  },
  {
   "cell_type": "markdown",
   "metadata": {},
   "source": [
    "From the summary statistics, we can see that the mean bond length is relatively consistent (as expected), but the standard deviation increases significantly with temperature. \n",
    "\n",
    "The mean bond lengths can be compared to a literature value of roughly 7.4 Å. The difference can be explained by our use of the EMT calculator, as this is by far the least accurate, but fastest, calculator in ASE, which is usually used for testing purposes. "
   ]
  }
 ],
 "metadata": {
  "kernelspec": {
   "display_name": "Python 3",
   "language": "python",
   "name": "python3"
  },
  "language_info": {
   "codemirror_mode": {
    "name": "ipython",
    "version": 3
   },
   "file_extension": ".py",
   "mimetype": "text/x-python",
   "name": "python",
   "nbconvert_exporter": "python",
   "pygments_lexer": "ipython3",
   "version": "3.7.1"
  }
 },
 "nbformat": 4,
 "nbformat_minor": 2
}
